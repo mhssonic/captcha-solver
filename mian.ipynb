{
 "cells": [
  {
   "cell_type": "code",
   "execution_count": 1,
   "outputs": [
    {
     "name": "stderr",
     "output_type": "stream",
     "text": [
      "2024-01-29 17:12:01.987744: I tensorflow/core/util/port.cc:113] oneDNN custom operations are on. You may see slightly different numerical results due to floating-point round-off errors from different computation orders. To turn them off, set the environment variable `TF_ENABLE_ONEDNN_OPTS=0`.\n",
      "2024-01-29 17:12:02.013265: E external/local_xla/xla/stream_executor/cuda/cuda_dnn.cc:9261] Unable to register cuDNN factory: Attempting to register factory for plugin cuDNN when one has already been registered\n",
      "2024-01-29 17:12:02.013285: E external/local_xla/xla/stream_executor/cuda/cuda_fft.cc:607] Unable to register cuFFT factory: Attempting to register factory for plugin cuFFT when one has already been registered\n",
      "2024-01-29 17:12:02.014073: E external/local_xla/xla/stream_executor/cuda/cuda_blas.cc:1515] Unable to register cuBLAS factory: Attempting to register factory for plugin cuBLAS when one has already been registered\n",
      "2024-01-29 17:12:02.018701: I tensorflow/core/platform/cpu_feature_guard.cc:182] This TensorFlow binary is optimized to use available CPU instructions in performance-critical operations.\n",
      "To enable the following instructions: AVX2 AVX_VNNI FMA, in other operations, rebuild TensorFlow with the appropriate compiler flags.\n",
      "2024-01-29 17:12:02.620961: W tensorflow/compiler/tf2tensorrt/utils/py_utils.cc:38] TF-TRT Warning: Could not find TensorRT\n"
     ]
    }
   ],
   "source": [
    "import tensorflow as tf\n",
    "import numpy as np\n",
    "from keras  import models, layers\n",
    "import keras\n",
    "from PIL import Image, ImageDraw, ImageFont\n",
    "from sklearn.model_selection import train_test_split\n",
    "import random\n",
    "import cv2\n",
    "import os"
   ],
   "metadata": {
    "collapsed": false,
    "ExecuteTime": {
     "end_time": "2024-01-29T13:42:03.368081734Z",
     "start_time": "2024-01-29T13:42:01.765621825Z"
    }
   },
   "id": "21d9997097fb271f"
  },
  {
   "cell_type": "code",
   "execution_count": 2,
   "outputs": [],
   "source": [
    "width = 30\n",
    "height = 40\n",
    "images = []\n",
    "labels = []\n",
    "letters = ['A','B','C','D','E','F','G','H','I','J','K','L','M','N','O','P','Q','R','S','T','U','V','W','X','Y','Z']\n"
   ],
   "metadata": {
    "collapsed": false,
    "ExecuteTime": {
     "end_time": "2024-01-29T13:42:03.375172206Z",
     "start_time": "2024-01-29T13:42:03.374567831Z"
    }
   },
   "id": "cfa4e67b97843c3e"
  },
  {
   "cell_type": "code",
   "execution_count": 3,
   "outputs": [],
   "source": [
    "def letter_to_image(letter: str, start: tuple[float, float], rotate, flag: bool, font: str, font_size: int):\n",
    "    img = Image.new('L', (width, height), color='Black')\n",
    "    #font_size used to be fixed-45 \n",
    "    font = ImageFont.truetype(font, size=font_size)\n",
    "    img_draw = ImageDraw.Draw(img)\n",
    "    img_draw.text(text=letter, fill=255, font=font, xy = start)\n",
    "\n",
    "    img = img.rotate(rotate) \n",
    "    if flag:\n",
    "        draw = ImageDraw.Draw(img) \n",
    "        draw.line((random.randint(0, width - 1), random.randint(0, height - 1),\n",
    "                   random.randint(0, width - 1), random.randint(0, height - 1)),\n",
    "                  fill=255, width=2)\n",
    "    \n",
    "    return img"
   ],
   "metadata": {
    "collapsed": false,
    "ExecuteTime": {
     "end_time": "2024-01-29T13:42:03.378754113Z",
     "start_time": "2024-01-29T13:42:03.376057158Z"
    }
   },
   "id": "1d095df33729aa39"
  },
  {
   "cell_type": "code",
   "execution_count": 4,
   "outputs": [
    {
     "name": "stdout",
     "output_type": "stream",
     "text": [
      "['fonts/Roboto-Bold.ttf', 'fonts/times new roman bold.ttf', 'fonts/Raleway-Bold.ttf', 'fonts/G_ari_bd.TTF', 'fonts/SLC_.ttf']\n"
     ]
    }
   ],
   "source": [
    "fonts = os.listdir('fonts')\n",
    "fonts =  [\"fonts/\" + font for font in fonts]\n",
    "print(fonts)"
   ],
   "metadata": {
    "collapsed": false,
    "ExecuteTime": {
     "end_time": "2024-01-29T13:42:03.384352434Z",
     "start_time": "2024-01-29T13:42:03.380029755Z"
    }
   },
   "id": "67f914e7ad0d1767"
  },
  {
   "cell_type": "code",
   "execution_count": 5,
   "outputs": [],
   "source": [
    "for font in fonts:\n",
    "    for size in range(42, 48, 2):\n",
    "        for l in letters:\n",
    "            for x in range(-4, 6, 2):\n",
    "                for y in range(-10, 5, 2):\n",
    "                    for r in range(-30, 30, 2):\n",
    "                        images.append(letter_to_image(l, (x, y), r, random.randint(1, 8) == 1, font, size))\n",
    "                        labels.append(ord(l) - ord('A'))\n",
    "\n",
    "# for i in range(0, 300):\n",
    "#     images[i].save('data/result{i}.png'.format(i = i))\n",
    "\n",
    "# letter_to_image('T', (1, -0), 30, False).save(\"result.png\")"
   ],
   "metadata": {
    "collapsed": false,
    "ExecuteTime": {
     "end_time": "2024-01-29T13:42:55.337245877Z",
     "start_time": "2024-01-29T13:42:03.383265120Z"
    }
   },
   "id": "f1f2f1645b448ac7"
  },
  {
   "cell_type": "code",
   "execution_count": 6,
   "outputs": [],
   "source": [
    "# old_image = images\n",
    "# old_labels = labels"
   ],
   "metadata": {
    "collapsed": false,
    "ExecuteTime": {
     "end_time": "2024-01-29T13:42:55.378025733Z",
     "start_time": "2024-01-29T13:42:55.377646818Z"
    }
   },
   "id": "56e9bc2a284a31d"
  },
  {
   "cell_type": "code",
   "execution_count": 7,
   "outputs": [
    {
     "name": "stdout",
     "output_type": "stream",
     "text": [
      "(468000, 40, 30)\n",
      "[[0. 0. 0. ... 0. 0. 0.]\n",
      " [0. 0. 0. ... 0. 0. 0.]\n",
      " [0. 0. 1. ... 0. 0. 0.]\n",
      " ...\n",
      " [0. 0. 0. ... 0. 0. 0.]\n",
      " [0. 0. 0. ... 0. 1. 0.]\n",
      " [0. 0. 0. ... 1. 0. 0.]]\n"
     ]
    }
   ],
   "source": [
    "num_classes = len(letters)\n",
    "# images = np.array(old_image) / 255.0\n",
    "# labels = np.array(old_labels)\n",
    "images = np.array(images) / 255.0\n",
    "labels = np.array(labels)\n",
    "\n",
    "train_images, test_images, train_labels, test_labels = train_test_split(images, labels, test_size=0.1)\n",
    "train_labels = keras.utils.to_categorical(train_labels, num_classes=num_classes)\n",
    "test_labels = keras.utils.to_categorical(test_labels, num_classes=num_classes)\n",
    "print(images.shape)\n",
    "print(train_labels)"
   ],
   "metadata": {
    "collapsed": false,
    "ExecuteTime": {
     "end_time": "2024-01-29T13:43:01.916689518Z",
     "start_time": "2024-01-29T13:42:55.377916266Z"
    }
   },
   "id": "76ed4511fb2ad448"
  },
  {
   "cell_type": "code",
   "execution_count": 8,
   "outputs": [
    {
     "name": "stderr",
     "output_type": "stream",
     "text": [
      "2024-01-29 17:14:04.513356: I external/local_xla/xla/stream_executor/cuda/cuda_executor.cc:901] successful NUMA node read from SysFS had negative value (-1), but there must be at least one NUMA node, so returning NUMA node zero. See more at https://github.com/torvalds/linux/blob/v6.0/Documentation/ABI/testing/sysfs-bus-pci#L344-L355\n",
      "2024-01-29 17:14:04.963035: I external/local_xla/xla/stream_executor/cuda/cuda_executor.cc:901] successful NUMA node read from SysFS had negative value (-1), but there must be at least one NUMA node, so returning NUMA node zero. See more at https://github.com/torvalds/linux/blob/v6.0/Documentation/ABI/testing/sysfs-bus-pci#L344-L355\n",
      "2024-01-29 17:14:04.963252: I external/local_xla/xla/stream_executor/cuda/cuda_executor.cc:901] successful NUMA node read from SysFS had negative value (-1), but there must be at least one NUMA node, so returning NUMA node zero. See more at https://github.com/torvalds/linux/blob/v6.0/Documentation/ABI/testing/sysfs-bus-pci#L344-L355\n",
      "2024-01-29 17:14:04.975173: I external/local_xla/xla/stream_executor/cuda/cuda_executor.cc:901] successful NUMA node read from SysFS had negative value (-1), but there must be at least one NUMA node, so returning NUMA node zero. See more at https://github.com/torvalds/linux/blob/v6.0/Documentation/ABI/testing/sysfs-bus-pci#L344-L355\n",
      "2024-01-29 17:14:04.975335: I external/local_xla/xla/stream_executor/cuda/cuda_executor.cc:901] successful NUMA node read from SysFS had negative value (-1), but there must be at least one NUMA node, so returning NUMA node zero. See more at https://github.com/torvalds/linux/blob/v6.0/Documentation/ABI/testing/sysfs-bus-pci#L344-L355\n",
      "2024-01-29 17:14:04.975440: I external/local_xla/xla/stream_executor/cuda/cuda_executor.cc:901] successful NUMA node read from SysFS had negative value (-1), but there must be at least one NUMA node, so returning NUMA node zero. See more at https://github.com/torvalds/linux/blob/v6.0/Documentation/ABI/testing/sysfs-bus-pci#L344-L355\n",
      "2024-01-29 17:14:05.211198: I external/local_xla/xla/stream_executor/cuda/cuda_executor.cc:901] successful NUMA node read from SysFS had negative value (-1), but there must be at least one NUMA node, so returning NUMA node zero. See more at https://github.com/torvalds/linux/blob/v6.0/Documentation/ABI/testing/sysfs-bus-pci#L344-L355\n",
      "2024-01-29 17:14:05.211813: I external/local_xla/xla/stream_executor/cuda/cuda_executor.cc:901] successful NUMA node read from SysFS had negative value (-1), but there must be at least one NUMA node, so returning NUMA node zero. See more at https://github.com/torvalds/linux/blob/v6.0/Documentation/ABI/testing/sysfs-bus-pci#L344-L355\n",
      "2024-01-29 17:14:05.211985: I external/local_xla/xla/stream_executor/cuda/cuda_executor.cc:901] successful NUMA node read from SysFS had negative value (-1), but there must be at least one NUMA node, so returning NUMA node zero. See more at https://github.com/torvalds/linux/blob/v6.0/Documentation/ABI/testing/sysfs-bus-pci#L344-L355\n",
      "2024-01-29 17:14:05.212049: I tensorflow/core/common_runtime/gpu/gpu_device.cc:1929] Created device /job:localhost/replica:0/task:0/device:GPU:0 with 5519 MB memory:  -> device: 0, name: NVIDIA GeForce RTX 3070 Laptop GPU, pci bus id: 0000:01:00.0, compute capability: 8.6\n"
     ]
    },
    {
     "name": "stdout",
     "output_type": "stream",
     "text": [
      "Epoch 1/4\n"
     ]
    },
    {
     "name": "stderr",
     "output_type": "stream",
     "text": [
      "2024-01-29 17:15:41.296942: I external/local_xla/xla/stream_executor/cuda/cuda_dnn.cc:454] Loaded cuDNN version 8904\n",
      "2024-01-29 17:15:45.010460: I external/local_tsl/tsl/platform/default/subprocess.cc:304] Start cannot spawn child process: No such file or directory\n",
      "2024-01-29 17:15:55.682468: I external/local_tsl/tsl/platform/default/subprocess.cc:304] Start cannot spawn child process: No such file or directory\n",
      "2024-01-29 17:15:55.813879: I external/local_xla/xla/service/service.cc:168] XLA service 0x7f3108bf8300 initialized for platform CUDA (this does not guarantee that XLA will be used). Devices:\n",
      "2024-01-29 17:15:55.813919: I external/local_xla/xla/service/service.cc:176]   StreamExecutor device (0): NVIDIA GeForce RTX 3070 Laptop GPU, Compute Capability 8.6\n",
      "2024-01-29 17:15:55.870497: I tensorflow/compiler/mlir/tensorflow/utils/dump_mlir_util.cc:269] disabling MLIR crash reproducer, set env var `MLIR_CRASH_REPRODUCER_DIRECTORY` to enable.\n",
      "WARNING: All log messages before absl::InitializeLog() is called are written to STDERR\n",
      "I0000 00:00:1706535956.136291   14845 device_compiler.h:186] Compiled cluster using XLA!  This line is logged at most once for the lifetime of the process.\n"
     ]
    },
    {
     "name": "stdout",
     "output_type": "stream",
     "text": [
      "13163/13163 [==============================] - 112s 6ms/step - loss: 0.1777 - accuracy: 0.9389 - val_loss: 0.0588 - val_accuracy: 0.9757\n",
      "Epoch 2/4\n",
      "13163/13163 [==============================] - 43s 3ms/step - loss: 0.0484 - accuracy: 0.9793 - val_loss: 0.0470 - val_accuracy: 0.9803\n",
      "Epoch 3/4\n",
      "13163/13163 [==============================] - 40s 3ms/step - loss: 0.0363 - accuracy: 0.9839 - val_loss: 0.0322 - val_accuracy: 0.9852\n",
      "Epoch 4/4\n",
      "13163/13163 [==============================] - 38s 3ms/step - loss: 0.0306 - accuracy: 0.9860 - val_loss: 0.0396 - val_accuracy: 0.9833\n",
      "1463/1463 - 2s - loss: 0.0396 - accuracy: 0.9833 - 2s/epoch - 1ms/step\n",
      "\n",
      "Test accuracy: 0.9832906126976013\n"
     ]
    }
   ],
   "source": [
    "num_classes = len(letters)\n",
    "# Define the CNN architecture\n",
    "model = models.Sequential([\n",
    "    layers.Conv2D(32, (3, 3), activation='relu', input_shape=(height, width, 1)),\n",
    "    layers.MaxPooling2D((2, 2)),\n",
    "    layers.Conv2D(64, (3, 3), activation='relu'),\n",
    "    layers.MaxPooling2D((2, 2)),\n",
    "    layers.Conv2D(64, (3, 3), activation='relu'),\n",
    "    layers.Flatten(),\n",
    "    layers.Dense(64, activation='relu'),\n",
    "    layers.Dense(num_classes, activation='softmax')  # Adjust the number of neurons in the output layer\n",
    "])\n",
    "\n",
    "# Compile the model with appropriate loss and metrics for multi-class classification\n",
    "model.compile(optimizer='adam',\n",
    "              loss='categorical_crossentropy',  # Categorical Crossentropy for multi-class classification\n",
    "              metrics=['accuracy'])\n",
    "\n",
    "# Train the model\n",
    "model.fit(train_images, train_labels, epochs=4, validation_data=(test_images, test_labels))\n",
    "\n",
    "# Evaluate the model\n",
    "test_loss, test_acc = model.evaluate(test_images,  test_labels, verbose=2)\n",
    "print('\\nTest accuracy:', test_acc)\n"
   ],
   "metadata": {
    "collapsed": false,
    "ExecuteTime": {
     "end_time": "2024-01-29T13:49:25.658391196Z",
     "start_time": "2024-01-29T13:43:50.313819399Z"
    }
   },
   "id": "910da8c61c4a82a4"
  },
  {
   "cell_type": "code",
   "execution_count": 9,
   "outputs": [],
   "source": [
    "model.save('my_model.keras')"
   ],
   "metadata": {
    "collapsed": false,
    "ExecuteTime": {
     "end_time": "2024-01-29T13:49:45.183594804Z",
     "start_time": "2024-01-29T13:49:45.065015013Z"
    }
   },
   "id": "a994c1bf7aad262a"
  },
  {
   "cell_type": "code",
   "execution_count": 10,
   "outputs": [],
   "source": [
    "load = models.load_model('my_model.keras')\n"
   ],
   "metadata": {
    "collapsed": false,
    "ExecuteTime": {
     "end_time": "2024-01-29T13:49:49.690867897Z",
     "start_time": "2024-01-29T13:49:49.487311281Z"
    }
   },
   "id": "6bdbd16d7374609"
  },
  {
   "cell_type": "code",
   "execution_count": 11,
   "outputs": [
    {
     "name": "stdout",
     "output_type": "stream",
     "text": [
      "(40, 30)\n",
      "1/1 [==============================] - 0s 192ms/step\n",
      "[[0. 0. 0. 0. 0. 0. 0. 0. 0. 0. 0. 0. 0. 0. 0. 0. 0. 0. 0. 0. 0. 0. 0. 0.\n",
      "  0. 1.]]\n"
     ]
    }
   ],
   "source": [
    "img = cv2.imread(\"letter_6.jpg\", cv2.IMREAD_GRAYSCALE)\n",
    "print(img.shape)\n",
    "print(load.predict(np.array([img])))"
   ],
   "metadata": {
    "collapsed": false,
    "ExecuteTime": {
     "end_time": "2024-01-29T13:49:50.925702401Z",
     "start_time": "2024-01-29T13:49:50.691339620Z"
    }
   },
   "id": "e2b1a0c1742f9edd"
  },
  {
   "cell_type": "code",
   "execution_count": null,
   "outputs": [],
   "source": [],
   "metadata": {
    "collapsed": false
   },
   "id": "298b053d3c4de518"
  }
 ],
 "metadata": {
  "kernelspec": {
   "display_name": "Python 3",
   "language": "python",
   "name": "python3"
  },
  "language_info": {
   "codemirror_mode": {
    "name": "ipython",
    "version": 2
   },
   "file_extension": ".py",
   "mimetype": "text/x-python",
   "name": "python",
   "nbconvert_exporter": "python",
   "pygments_lexer": "ipython2",
   "version": "2.7.6"
  }
 },
 "nbformat": 4,
 "nbformat_minor": 5
}
